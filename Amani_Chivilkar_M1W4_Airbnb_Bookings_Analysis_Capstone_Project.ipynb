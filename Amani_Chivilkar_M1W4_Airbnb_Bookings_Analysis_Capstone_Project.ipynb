{
  "nbformat": 4,
  "nbformat_minor": 0,
  "metadata": {
    "colab": {
      "name": " Amani Chivilkar-M1W4-Airbnb Bookings Analysis - Capstone Project.ipynb",
      "provenance": [],
      "collapsed_sections": [
        "8iw0BCDpcrgc",
        "Cg7wIJwGcrgf",
        "-HHc9Tuecrgg",
        "1XUU4fpYcrgh",
        "9RwyxCDqcrgk",
        "5VddfLbcervQ",
        "EAukOdpvJ2X0",
        "WVZTNgIVcrgl",
        "fYT7DED9RwaY",
        "XLKy0MZ6Xk0X",
        "lH2shn3OebSt",
        "lOKzD98Epwg6",
        "SSgDPEJXvv3r",
        "beZatPeeUEg1",
        "Lzua0gxxKliv",
        "1KUoFm_4OGec"
      ],
      "mount_file_id": "1sXP3j84noTvfZ3VdgSajFH6lE_eb4wqn",
      "authorship_tag": "ABX9TyOIhMRsIcx3lkZxAc10kKBL",
      "include_colab_link": true
    },
    "kernelspec": {
      "name": "python3",
      "display_name": "Python 3"
    },
    "language_info": {
      "name": "python"
    }
  },
  "cells": [
    {
      "cell_type": "markdown",
      "metadata": {
        "id": "view-in-github",
        "colab_type": "text"
      },
      "source": [
        "<a href=\"https://colab.research.google.com/github/amanichivilkar/Airbnb-Booking-Analysis/blob/main/Amani_Chivilkar_M1W4_Airbnb_Bookings_Analysis_Capstone_Project.ipynb\" target=\"_parent\"><img src=\"https://colab.research.google.com/assets/colab-badge.svg\" alt=\"Open In Colab\"/></a>"
      ]
    },
    {
      "cell_type": "markdown",
      "metadata": {
        "id": "Y06xIdG26kRF"
      },
      "source": [
        "<b> Since 2008, guests and hosts have used Airbnb to expand on traveling possibilities and present a more unique, personalized way of experiencing the world. Today, Airbnb became one of a kind service that is used and recognized by the whole world. Data analysis on millions of listings provided through Airbnb is a crucial factor for the company. These millions of listings generate a lot of data - data that can be analyzed and used for security, business decisions, understanding of customers' and providers' (hosts) behavior and performance on the platform, guiding marketing initiatives, implementation of innovative additional services and much more. </b>\n",
        " \n",
        "<b>This dataset has around 49,000 observations in it with 16 columns and it is a mix between categorical and numeric values. </b>\n",
        " \n",
        "<b> Explore and analyze the data to discover key understandings (not limited to these) such as : \n",
        "* What can we learn about different hosts and areas?\n",
        "* What can we learn from predictions? (ex: locations, prices, reviews, etc)\n",
        "* Which hosts are the busiest and why?\n",
        "* Is there any noticeable difference of traffic among different areas and what could be the reason for it? </b>"
      ]
    },
    {
      "cell_type": "markdown",
      "metadata": {
        "id": "oywCmMgycrga"
      },
      "source": [
        "###Import Libraries\n",
        "\n"
      ]
    },
    {
      "cell_type": "code",
      "metadata": {
        "id": "i5OaqxSFcrgb"
      },
      "source": [
        "import pandas as pd\n",
        "import numpy as np\n",
        "import matplotlib.pyplot as plt\n",
        "%matplotlib inline\n",
        "import seaborn as sns\n",
        "sns.set_theme(style=\"whitegrid\")\n",
        "import warnings\n",
        "warnings.filterwarnings('ignore')\n",
        "from datetime import datetime\n",
        "from datetime import timedelta\n",
        "from dateutil.relativedelta import relativedelta"
      ],
      "execution_count": null,
      "outputs": []
    },
    {
      "cell_type": "markdown",
      "metadata": {
        "id": "8iw0BCDpcrgc"
      },
      "source": [
        "### Get the Dataset path file"
      ]
    },
    {
      "cell_type": "code",
      "metadata": {
        "colab": {
          "base_uri": "https://localhost:8080/"
        },
        "id": "cj1SNP5Xcrgd",
        "outputId": "8b6a7a1c-bc76-46e0-b40f-de5c47af49e9"
      },
      "source": [
        "df=pd.read_csv(\"/content/drive/MyDrive/data/Copy of Airbnb NYC 2019.csv\")\n",
        "df.info()"
      ],
      "execution_count": null,
      "outputs": [
        {
          "output_type": "stream",
          "name": "stdout",
          "text": [
            "<class 'pandas.core.frame.DataFrame'>\n",
            "RangeIndex: 48895 entries, 0 to 48894\n",
            "Data columns (total 16 columns):\n",
            " #   Column                          Non-Null Count  Dtype  \n",
            "---  ------                          --------------  -----  \n",
            " 0   id                              48895 non-null  int64  \n",
            " 1   name                            48879 non-null  object \n",
            " 2   host_id                         48895 non-null  int64  \n",
            " 3   host_name                       48874 non-null  object \n",
            " 4   neighbourhood_group             48895 non-null  object \n",
            " 5   neighbourhood                   48895 non-null  object \n",
            " 6   latitude                        48895 non-null  float64\n",
            " 7   longitude                       48895 non-null  float64\n",
            " 8   room_type                       48895 non-null  object \n",
            " 9   price                           48895 non-null  int64  \n",
            " 10  minimum_nights                  48895 non-null  int64  \n",
            " 11  number_of_reviews               48895 non-null  int64  \n",
            " 12  last_review                     38843 non-null  object \n",
            " 13  reviews_per_month               38843 non-null  float64\n",
            " 14  calculated_host_listings_count  48895 non-null  int64  \n",
            " 15  availability_365                48895 non-null  int64  \n",
            "dtypes: float64(3), int64(7), object(6)\n",
            "memory usage: 6.0+ MB\n"
          ]
        }
      ]
    },
    {
      "cell_type": "markdown",
      "metadata": {
        "id": "Cg7wIJwGcrgf"
      },
      "source": [
        "### Understanding the column of the DataFrame"
      ]
    },
    {
      "cell_type": "markdown",
      "metadata": {
        "id": "3bG561wJcrgg"
      },
      "source": [
        " Columns of the DataFrame\n",
        "\n",
        "* **Id-** It is listing id. Whenever a host list its property on Airbnb, a unique id is created, since every id is unique there are 458895 unique id.\n",
        "As per my observation ,every listing is a listing of unique properties.(means the same property is not listed more than 1)\n",
        "* **name-** It is the property description. Two properties can have the same name, but they are not the same property, every property in the data are unique, as all of them are having different longitude and latitude, that means every properties are situated in different location. \n",
        "* **host_id-** Its the identity id given to individual host (For example- two different host cant have the same host_id). So if we want to count the number of host, we count the unique host_id.\n",
        "* **neighbourhood_group-** This are the 5 Boroughs of New York city, in which the property is located.\n",
        "* **neighbourhood-**  This are the towns and villages in New York\n",
        "* **room_type-** Types of properties \n",
        "* **price-**  Property price per day\n",
        "* **minimum_nights-** It is the minimum number of night you can book a property,( example-1 year rental contract)\n",
        "* **number_of_reviews-** Total number of reviews \n",
        "* **Calculated_host_listing_count-** The number of times the host has listed its property.\n",
        "* **availabilitty_365-** the number of days the property were available for booking."
      ]
    },
    {
      "cell_type": "markdown",
      "metadata": {
        "id": "-HHc9Tuecrgg"
      },
      "source": [
        "## **Cleaning the data**"
      ]
    },
    {
      "cell_type": "markdown",
      "metadata": {
        "id": "1XUU4fpYcrgh"
      },
      "source": [
        "\n",
        "\n",
        "### **Check how many NaN values are present in each columns**"
      ]
    },
    {
      "cell_type": "code",
      "metadata": {
        "colab": {
          "base_uri": "https://localhost:8080/"
        },
        "id": "llr3PhWicrgi",
        "outputId": "b87278c7-2e93-4ec0-9e2c-e3587553221e"
      },
      "source": [
        " df.isnull().sum()"
      ],
      "execution_count": null,
      "outputs": [
        {
          "output_type": "execute_result",
          "data": {
            "text/plain": [
              "id                                    0\n",
              "name                                 16\n",
              "host_id                               0\n",
              "host_name                            21\n",
              "neighbourhood_group                   0\n",
              "neighbourhood                         0\n",
              "latitude                              0\n",
              "longitude                             0\n",
              "room_type                             0\n",
              "price                                 0\n",
              "minimum_nights                        0\n",
              "number_of_reviews                     0\n",
              "last_review                       10052\n",
              "reviews_per_month                 10052\n",
              "calculated_host_listings_count        0\n",
              "availability_365                      0\n",
              "dtype: int64"
            ]
          },
          "metadata": {},
          "execution_count": 122
        }
      ]
    },
    {
      "cell_type": "markdown",
      "metadata": {
        "id": "Zi6GMxYTcrgj"
      },
      "source": [
        "\n",
        "* Drop the column which are not required,like id, last_review  \n",
        "* Since 2 different host can have the same host_name, we use host_id , as host id is unique for induvidual host\n"
      ]
    },
    {
      "cell_type": "code",
      "metadata": {
        "id": "Et0arIYkcrgk"
      },
      "source": [
        "df.drop(['id'],axis=1,inplace=True)"
      ],
      "execution_count": null,
      "outputs": []
    },
    {
      "cell_type": "markdown",
      "metadata": {
        "id": "9RwyxCDqcrgk"
      },
      "source": [
        "###  **Fill the NaN values in host_name by 'no name'**"
      ]
    },
    {
      "cell_type": "code",
      "metadata": {
        "id": "gsydfzRqcrgl"
      },
      "source": [
        "df.loc[df.host_name.isna(),'host_name']=df.loc[df.host_name.isna(),'host_name'].apply(lambda x: \"no name\")"
      ],
      "execution_count": null,
      "outputs": []
    },
    {
      "cell_type": "markdown",
      "metadata": {
        "id": "5VddfLbcervQ"
      },
      "source": [
        "### **Replace NaN values in 'name' column by 'no description'**"
      ]
    },
    {
      "cell_type": "code",
      "metadata": {
        "id": "1VPOXTXpewZP"
      },
      "source": [
        "df.loc[df.name.isna(),'name']=df.loc[df.name.isna(),'name'].apply(lambda x: \"no description\")"
      ],
      "execution_count": null,
      "outputs": []
    },
    {
      "cell_type": "markdown",
      "metadata": {
        "id": "EAukOdpvJ2X0"
      },
      "source": [
        "### **Replace NaN values in 'reviews_per_month' column by 0**"
      ]
    },
    {
      "cell_type": "code",
      "metadata": {
        "id": "D3Kio8BtKHo7"
      },
      "source": [
        "df.loc[df.reviews_per_month.isna(),'reviews_per_month']=df.loc[df.reviews_per_month.isna(),'reviews_per_month'].apply(lambda x: 0)"
      ],
      "execution_count": null,
      "outputs": []
    },
    {
      "cell_type": "markdown",
      "metadata": {
        "id": "WVZTNgIVcrgl"
      },
      "source": [
        "### **If price is 0 , replace it by the average price of all similar room_type with similar neighbourhood_group**\n",
        "\n",
        "\n",
        "\n"
      ]
    },
    {
      "cell_type": "code",
      "metadata": {
        "colab": {
          "base_uri": "https://localhost:8080/"
        },
        "id": "Cv8J7GAScrgm",
        "outputId": "3bf6a382-c24c-47f7-c684-0a77cb4fc171"
      },
      "source": [
        "#Considering 3 column of the dataframe df\n",
        "df1=df[['neighbourhood_group','room_type','price']]\n",
        "\n",
        "#Create dataframe df2 containig price greater than zero\n",
        "df2=df1[df1.price!=0]\n",
        "\n",
        "# groupby neighbourhood_group and room_type, And find there average price \n",
        "df3=df2.groupby(['neighbourhood_group','room_type'])['price'].mean().unstack()\n",
        "df3"
      ],
      "execution_count": null,
      "outputs": [
        {
          "output_type": "execute_result",
          "data": {
            "text/html": [
              "<div>\n",
              "<style scoped>\n",
              "    .dataframe tbody tr th:only-of-type {\n",
              "        vertical-align: middle;\n",
              "    }\n",
              "\n",
              "    .dataframe tbody tr th {\n",
              "        vertical-align: top;\n",
              "    }\n",
              "\n",
              "    .dataframe thead th {\n",
              "        text-align: right;\n",
              "    }\n",
              "</style>\n",
              "<table border=\"1\" class=\"dataframe\">\n",
              "  <thead>\n",
              "    <tr style=\"text-align: right;\">\n",
              "      <th>room_type</th>\n",
              "      <th>Entire home/apt</th>\n",
              "      <th>Private room</th>\n",
              "      <th>Shared room</th>\n",
              "    </tr>\n",
              "    <tr>\n",
              "      <th>neighbourhood_group</th>\n",
              "      <th></th>\n",
              "      <th></th>\n",
              "      <th></th>\n",
              "    </tr>\n",
              "  </thead>\n",
              "  <tbody>\n",
              "    <tr>\n",
              "      <th>Bronx</th>\n",
              "      <td>127.506596</td>\n",
              "      <td>66.890937</td>\n",
              "      <td>59.800000</td>\n",
              "    </tr>\n",
              "    <tr>\n",
              "      <th>Brooklyn</th>\n",
              "      <td>178.346202</td>\n",
              "      <td>76.545428</td>\n",
              "      <td>50.773723</td>\n",
              "    </tr>\n",
              "    <tr>\n",
              "      <th>Manhattan</th>\n",
              "      <td>249.257994</td>\n",
              "      <td>116.776622</td>\n",
              "      <td>88.977083</td>\n",
              "    </tr>\n",
              "    <tr>\n",
              "      <th>Queens</th>\n",
              "      <td>147.050573</td>\n",
              "      <td>71.762456</td>\n",
              "      <td>69.020202</td>\n",
              "    </tr>\n",
              "    <tr>\n",
              "      <th>Staten Island</th>\n",
              "      <td>173.846591</td>\n",
              "      <td>62.292553</td>\n",
              "      <td>57.444444</td>\n",
              "    </tr>\n",
              "  </tbody>\n",
              "</table>\n",
              "</div>"
            ],
            "text/plain": [
              "room_type            Entire home/apt  Private room  Shared room\n",
              "neighbourhood_group                                            \n",
              "Bronx                     127.506596     66.890937    59.800000\n",
              "Brooklyn                  178.346202     76.545428    50.773723\n",
              "Manhattan                 249.257994    116.776622    88.977083\n",
              "Queens                    147.050573     71.762456    69.020202\n",
              "Staten Island             173.846591     62.292553    57.444444"
            ]
          },
          "metadata": {},
          "execution_count": 127
        }
      ]
    },
    {
      "cell_type": "code",
      "metadata": {
        "id": "J-TvcPZzcrgm"
      },
      "source": [
        "# Creat function to extract average price from dataframe df3\n",
        "def fun(neighbourhood_group,room_type):\n",
        " avg_price=df3.loc[neighbourhood_group,room_type]\n",
        " return avg_price"
      ],
      "execution_count": null,
      "outputs": []
    },
    {
      "cell_type": "code",
      "metadata": {
        "id": "-Ow8Rtk-crgn"
      },
      "source": [
        "# Repllace 0 price by the average price from the dataframe df3\n",
        "df['price']=df.apply(lambda x: fun(x['neighbourhood_group'],x['room_type'])  if x['price']==0 else x['price'], axis=1 )"
      ],
      "execution_count": null,
      "outputs": []
    },
    {
      "cell_type": "markdown",
      "metadata": {
        "id": "fYT7DED9RwaY"
      },
      "source": [
        "### **Convert timestring to datetime**"
      ]
    },
    {
      "cell_type": "code",
      "metadata": {
        "id": "xXuSmaJn4zOQ"
      },
      "source": [
        "df.loc[~df['last_review'].isna(),'last_review']=df.loc[~df['last_review'].isna(),'last_review'].apply(lambda x: datetime.strptime(x,'%Y-%m-%d'))"
      ],
      "execution_count": null,
      "outputs": []
    },
    {
      "cell_type": "markdown",
      "metadata": {
        "id": "XLKy0MZ6Xk0X"
      },
      "source": [
        "###  **Check how many NaN values are present in each columns**"
      ]
    },
    {
      "cell_type": "code",
      "metadata": {
        "colab": {
          "base_uri": "https://localhost:8080/"
        },
        "id": "Yf3yP4VBcrgn",
        "outputId": "005ac68d-8a1d-4186-e3f2-43d1c2496ce3"
      },
      "source": [
        "# check the nan values\n",
        "df.isnull().sum()"
      ],
      "execution_count": null,
      "outputs": [
        {
          "output_type": "execute_result",
          "data": {
            "text/plain": [
              "name                                  0\n",
              "host_id                               0\n",
              "host_name                             0\n",
              "neighbourhood_group                   0\n",
              "neighbourhood                         0\n",
              "latitude                              0\n",
              "longitude                             0\n",
              "room_type                             0\n",
              "price                                 0\n",
              "minimum_nights                        0\n",
              "number_of_reviews                     0\n",
              "last_review                       10052\n",
              "reviews_per_month                     0\n",
              "calculated_host_listings_count        0\n",
              "availability_365                      0\n",
              "dtype: int64"
            ]
          },
          "metadata": {},
          "execution_count": 131
        }
      ]
    },
    {
      "cell_type": "markdown",
      "metadata": {
        "id": "cvSxMPDFrgiR"
      },
      "source": [
        "## **EDA and Visualization Analysis**"
      ]
    },
    {
      "cell_type": "markdown",
      "metadata": {
        "id": "0RRSwB9afli3"
      },
      "source": [
        "**define busiest host**\n",
        "I would consider the host to be busy, if he frequently receives bookings (that is if the host recives booking  in higher rate).\n",
        "Since we have not been provided with the booking data, we can consider the number of reviews received  by the host as the minimum number of booking that a host could get. (since the tenants gives review after booking/using the property)\n",
        "\n",
        "* host with maximum number of reviews is not busiest, but host with max number of reviews per month is the busiest.\n",
        "* For example host1 gets 10 booking per month is more busier than the host2 who gets 2 booking per month. \n",
        "* In the given data Maya has the highest number of reviews that is 2273 reviews. but the rate of reviews is 53 reviews per month, where as Soder got 1281 reviews , and the rate of reviews is 397 reviews per month , means Sonders booking rate is more than Maya hence Sonder is the busiest among all. "
      ]
    },
    {
      "cell_type": "markdown",
      "metadata": {
        "id": "lOKzD98Epwg6"
      },
      "source": [
        "### **Find the rate of reviews per month, recieved by each host for all its properties (combined) listed on Airbnb**"
      ]
    },
    {
      "cell_type": "code",
      "metadata": {
        "id": "A7RflHzSpwg6"
      },
      "source": [
        "#Create new column 'reviews_in_days'\n",
        "df['reviews_in_days']=(df.number_of_reviews/df.reviews_per_month)*31 # This calculation gives reviews_in_month, we multiply it by 31 to get reviews in days "
      ],
      "execution_count": null,
      "outputs": []
    },
    {
      "cell_type": "code",
      "metadata": {
        "colab": {
          "base_uri": "https://localhost:8080/"
        },
        "id": "lasfu28zpwg7",
        "outputId": "b98ceeb5-0771-43fe-a88f-ce6fc00d29bf"
      },
      "source": [
        "# considerng the following columns only from the original dataframe\n",
        "df1=df[['host_id','host_name','number_of_reviews','last_review','reviews_in_days']]\n",
        "df1.dropna(inplace=True)\n",
        "df1.head()"
      ],
      "execution_count": null,
      "outputs": [
        {
          "output_type": "execute_result",
          "data": {
            "text/html": [
              "<div>\n",
              "<style scoped>\n",
              "    .dataframe tbody tr th:only-of-type {\n",
              "        vertical-align: middle;\n",
              "    }\n",
              "\n",
              "    .dataframe tbody tr th {\n",
              "        vertical-align: top;\n",
              "    }\n",
              "\n",
              "    .dataframe thead th {\n",
              "        text-align: right;\n",
              "    }\n",
              "</style>\n",
              "<table border=\"1\" class=\"dataframe\">\n",
              "  <thead>\n",
              "    <tr style=\"text-align: right;\">\n",
              "      <th></th>\n",
              "      <th>host_id</th>\n",
              "      <th>host_name</th>\n",
              "      <th>number_of_reviews</th>\n",
              "      <th>last_review</th>\n",
              "      <th>reviews_in_days</th>\n",
              "    </tr>\n",
              "  </thead>\n",
              "  <tbody>\n",
              "    <tr>\n",
              "      <th>0</th>\n",
              "      <td>2787</td>\n",
              "      <td>John</td>\n",
              "      <td>9</td>\n",
              "      <td>2018-10-19 00:00:00</td>\n",
              "      <td>1328.571429</td>\n",
              "    </tr>\n",
              "    <tr>\n",
              "      <th>1</th>\n",
              "      <td>2845</td>\n",
              "      <td>Jennifer</td>\n",
              "      <td>45</td>\n",
              "      <td>2019-05-21 00:00:00</td>\n",
              "      <td>3671.052632</td>\n",
              "    </tr>\n",
              "    <tr>\n",
              "      <th>3</th>\n",
              "      <td>4869</td>\n",
              "      <td>LisaRoxanne</td>\n",
              "      <td>270</td>\n",
              "      <td>2019-07-05 00:00:00</td>\n",
              "      <td>1803.879310</td>\n",
              "    </tr>\n",
              "    <tr>\n",
              "      <th>4</th>\n",
              "      <td>7192</td>\n",
              "      <td>Laura</td>\n",
              "      <td>9</td>\n",
              "      <td>2018-11-19 00:00:00</td>\n",
              "      <td>2790.000000</td>\n",
              "    </tr>\n",
              "    <tr>\n",
              "      <th>5</th>\n",
              "      <td>7322</td>\n",
              "      <td>Chris</td>\n",
              "      <td>74</td>\n",
              "      <td>2019-06-22 00:00:00</td>\n",
              "      <td>3888.135593</td>\n",
              "    </tr>\n",
              "  </tbody>\n",
              "</table>\n",
              "</div>"
            ],
            "text/plain": [
              "   host_id    host_name  ...          last_review reviews_in_days\n",
              "0     2787         John  ...  2018-10-19 00:00:00     1328.571429\n",
              "1     2845     Jennifer  ...  2019-05-21 00:00:00     3671.052632\n",
              "3     4869  LisaRoxanne  ...  2019-07-05 00:00:00     1803.879310\n",
              "4     7192        Laura  ...  2018-11-19 00:00:00     2790.000000\n",
              "5     7322        Chris  ...  2019-06-22 00:00:00     3888.135593\n",
              "\n",
              "[5 rows x 5 columns]"
            ]
          },
          "metadata": {},
          "execution_count": 134
        }
      ]
    },
    {
      "cell_type": "code",
      "metadata": {
        "id": "Ca1FbxHApwg8"
      },
      "source": [
        "#Convert reviews_in_days columns into deltatime and store it in a\n",
        "a=pd.to_timedelta(df1['reviews_in_days'], unit='D')"
      ],
      "execution_count": null,
      "outputs": []
    },
    {
      "cell_type": "code",
      "metadata": {
        "colab": {
          "base_uri": "https://localhost:8080/"
        },
        "id": "qLrXYWnrpwg8",
        "outputId": "93667612-7c01-4f5a-e4df-56de109589f0"
      },
      "source": [
        "#create new column \"first_review\" that stors the date of the first review\n",
        "df1['first_review']=df1['last_review']-a\n",
        "df1.head()"
      ],
      "execution_count": null,
      "outputs": [
        {
          "output_type": "execute_result",
          "data": {
            "text/html": [
              "<div>\n",
              "<style scoped>\n",
              "    .dataframe tbody tr th:only-of-type {\n",
              "        vertical-align: middle;\n",
              "    }\n",
              "\n",
              "    .dataframe tbody tr th {\n",
              "        vertical-align: top;\n",
              "    }\n",
              "\n",
              "    .dataframe thead th {\n",
              "        text-align: right;\n",
              "    }\n",
              "</style>\n",
              "<table border=\"1\" class=\"dataframe\">\n",
              "  <thead>\n",
              "    <tr style=\"text-align: right;\">\n",
              "      <th></th>\n",
              "      <th>host_id</th>\n",
              "      <th>host_name</th>\n",
              "      <th>number_of_reviews</th>\n",
              "      <th>last_review</th>\n",
              "      <th>reviews_in_days</th>\n",
              "      <th>first_review</th>\n",
              "    </tr>\n",
              "  </thead>\n",
              "  <tbody>\n",
              "    <tr>\n",
              "      <th>0</th>\n",
              "      <td>2787</td>\n",
              "      <td>John</td>\n",
              "      <td>9</td>\n",
              "      <td>2018-10-19 00:00:00</td>\n",
              "      <td>1328.571429</td>\n",
              "      <td>2015-02-28 10:17:08.571465600</td>\n",
              "    </tr>\n",
              "    <tr>\n",
              "      <th>1</th>\n",
              "      <td>2845</td>\n",
              "      <td>Jennifer</td>\n",
              "      <td>45</td>\n",
              "      <td>2019-05-21 00:00:00</td>\n",
              "      <td>3671.052632</td>\n",
              "      <td>2009-05-01 22:44:12.631574400</td>\n",
              "    </tr>\n",
              "    <tr>\n",
              "      <th>3</th>\n",
              "      <td>4869</td>\n",
              "      <td>LisaRoxanne</td>\n",
              "      <td>270</td>\n",
              "      <td>2019-07-05 00:00:00</td>\n",
              "      <td>1803.879310</td>\n",
              "      <td>2014-07-27 02:53:47.586192000</td>\n",
              "    </tr>\n",
              "    <tr>\n",
              "      <th>4</th>\n",
              "      <td>7192</td>\n",
              "      <td>Laura</td>\n",
              "      <td>9</td>\n",
              "      <td>2018-11-19 00:00:00</td>\n",
              "      <td>2790.000000</td>\n",
              "      <td>2011-03-31 00:00:00.000000000</td>\n",
              "    </tr>\n",
              "    <tr>\n",
              "      <th>5</th>\n",
              "      <td>7322</td>\n",
              "      <td>Chris</td>\n",
              "      <td>74</td>\n",
              "      <td>2019-06-22 00:00:00</td>\n",
              "      <td>3888.135593</td>\n",
              "      <td>2008-10-28 20:44:44.745792001</td>\n",
              "    </tr>\n",
              "  </tbody>\n",
              "</table>\n",
              "</div>"
            ],
            "text/plain": [
              "   host_id    host_name  ...  reviews_in_days                  first_review\n",
              "0     2787         John  ...      1328.571429 2015-02-28 10:17:08.571465600\n",
              "1     2845     Jennifer  ...      3671.052632 2009-05-01 22:44:12.631574400\n",
              "3     4869  LisaRoxanne  ...      1803.879310 2014-07-27 02:53:47.586192000\n",
              "4     7192        Laura  ...      2790.000000 2011-03-31 00:00:00.000000000\n",
              "5     7322        Chris  ...      3888.135593 2008-10-28 20:44:44.745792001\n",
              "\n",
              "[5 rows x 6 columns]"
            ]
          },
          "metadata": {},
          "execution_count": 136
        }
      ]
    },
    {
      "cell_type": "code",
      "metadata": {
        "colab": {
          "base_uri": "https://localhost:8080/"
        },
        "id": "o-z94_y7pwg9",
        "outputId": "efeba521-9dcf-4802-f5f0-3a86f9e7d302"
      },
      "source": [
        "# groupby host id and find out the min of the first_review and max of the last_review and sum up all the number of reviews recieved by each host for all its properties\n",
        "df2=df1.groupby(['host_id','host_name']).agg({'number_of_reviews':'sum','first_review':np.min,'last_review':np.max}).reset_index().rename(columns={'number_of_reviews':'total_reviews'})\n",
        "df2.head()"
      ],
      "execution_count": null,
      "outputs": [
        {
          "output_type": "execute_result",
          "data": {
            "text/html": [
              "<div>\n",
              "<style scoped>\n",
              "    .dataframe tbody tr th:only-of-type {\n",
              "        vertical-align: middle;\n",
              "    }\n",
              "\n",
              "    .dataframe tbody tr th {\n",
              "        vertical-align: top;\n",
              "    }\n",
              "\n",
              "    .dataframe thead th {\n",
              "        text-align: right;\n",
              "    }\n",
              "</style>\n",
              "<table border=\"1\" class=\"dataframe\">\n",
              "  <thead>\n",
              "    <tr style=\"text-align: right;\">\n",
              "      <th></th>\n",
              "      <th>host_id</th>\n",
              "      <th>host_name</th>\n",
              "      <th>total_reviews</th>\n",
              "      <th>first_review</th>\n",
              "      <th>last_review</th>\n",
              "    </tr>\n",
              "  </thead>\n",
              "  <tbody>\n",
              "    <tr>\n",
              "      <th>0</th>\n",
              "      <td>2438</td>\n",
              "      <td>Tasos</td>\n",
              "      <td>1</td>\n",
              "      <td>2016-10-16 07:59:59.999971200</td>\n",
              "      <td>2018-03-17</td>\n",
              "    </tr>\n",
              "    <tr>\n",
              "      <th>1</th>\n",
              "      <td>2571</td>\n",
              "      <td>Teedo</td>\n",
              "      <td>27</td>\n",
              "      <td>2013-03-10 20:06:29.189203200</td>\n",
              "      <td>2019-05-21</td>\n",
              "    </tr>\n",
              "    <tr>\n",
              "      <th>2</th>\n",
              "      <td>2787</td>\n",
              "      <td>John</td>\n",
              "      <td>105</td>\n",
              "      <td>2015-02-28 10:17:08.571465600</td>\n",
              "      <td>2019-06-26</td>\n",
              "    </tr>\n",
              "    <tr>\n",
              "      <th>3</th>\n",
              "      <td>2845</td>\n",
              "      <td>Jennifer</td>\n",
              "      <td>46</td>\n",
              "      <td>2009-05-01 22:44:12.631574400</td>\n",
              "      <td>2019-05-21</td>\n",
              "    </tr>\n",
              "    <tr>\n",
              "      <th>4</th>\n",
              "      <td>2868</td>\n",
              "      <td>Letha M.</td>\n",
              "      <td>2</td>\n",
              "      <td>2014-10-01 16:00:00.000028800</td>\n",
              "      <td>2017-07-31</td>\n",
              "    </tr>\n",
              "  </tbody>\n",
              "</table>\n",
              "</div>"
            ],
            "text/plain": [
              "   host_id host_name  total_reviews                  first_review last_review\n",
              "0     2438     Tasos              1 2016-10-16 07:59:59.999971200  2018-03-17\n",
              "1     2571     Teedo             27 2013-03-10 20:06:29.189203200  2019-05-21\n",
              "2     2787      John            105 2015-02-28 10:17:08.571465600  2019-06-26\n",
              "3     2845  Jennifer             46 2009-05-01 22:44:12.631574400  2019-05-21\n",
              "4     2868  Letha M.              2 2014-10-01 16:00:00.000028800  2017-07-31"
            ]
          },
          "metadata": {},
          "execution_count": 137
        }
      ]
    },
    {
      "cell_type": "code",
      "metadata": {
        "colab": {
          "base_uri": "https://localhost:8080/"
        },
        "id": "D_GmskdUpwg9",
        "outputId": "e31bfa21-6fdc-4d6a-e3ae-ee71509491c2"
      },
      "source": [
        "# df1['total_days_of_reviews']=df1['first_review']-df1['last_review']\n",
        "df2['Difference'] = df2['last_review'].sub(df2['first_review'], axis=0)\n",
        "# Ectract days from Difference(datetime) column\n",
        "df2['Difference'] = df2['Difference'].apply(lambda x: x.days)\n",
        "# This dfference is in days we convert it into months by dividing it by 31days\n",
        "df2['Difference'] = df2['Difference']/31\n",
        "df2.rename(columns={'Difference':'Difference_in_months'},inplace=True)\n",
        "df2.head()"
      ],
      "execution_count": null,
      "outputs": [
        {
          "output_type": "execute_result",
          "data": {
            "text/html": [
              "<div>\n",
              "<style scoped>\n",
              "    .dataframe tbody tr th:only-of-type {\n",
              "        vertical-align: middle;\n",
              "    }\n",
              "\n",
              "    .dataframe tbody tr th {\n",
              "        vertical-align: top;\n",
              "    }\n",
              "\n",
              "    .dataframe thead th {\n",
              "        text-align: right;\n",
              "    }\n",
              "</style>\n",
              "<table border=\"1\" class=\"dataframe\">\n",
              "  <thead>\n",
              "    <tr style=\"text-align: right;\">\n",
              "      <th></th>\n",
              "      <th>host_id</th>\n",
              "      <th>host_name</th>\n",
              "      <th>total_reviews</th>\n",
              "      <th>first_review</th>\n",
              "      <th>last_review</th>\n",
              "      <th>Difference_in_months</th>\n",
              "    </tr>\n",
              "  </thead>\n",
              "  <tbody>\n",
              "    <tr>\n",
              "      <th>0</th>\n",
              "      <td>2438</td>\n",
              "      <td>Tasos</td>\n",
              "      <td>1</td>\n",
              "      <td>2016-10-16 07:59:59.999971200</td>\n",
              "      <td>2018-03-17</td>\n",
              "      <td>16.645161</td>\n",
              "    </tr>\n",
              "    <tr>\n",
              "      <th>1</th>\n",
              "      <td>2571</td>\n",
              "      <td>Teedo</td>\n",
              "      <td>27</td>\n",
              "      <td>2013-03-10 20:06:29.189203200</td>\n",
              "      <td>2019-05-21</td>\n",
              "      <td>72.967742</td>\n",
              "    </tr>\n",
              "    <tr>\n",
              "      <th>2</th>\n",
              "      <td>2787</td>\n",
              "      <td>John</td>\n",
              "      <td>105</td>\n",
              "      <td>2015-02-28 10:17:08.571465600</td>\n",
              "      <td>2019-06-26</td>\n",
              "      <td>50.903226</td>\n",
              "    </tr>\n",
              "    <tr>\n",
              "      <th>3</th>\n",
              "      <td>2845</td>\n",
              "      <td>Jennifer</td>\n",
              "      <td>46</td>\n",
              "      <td>2009-05-01 22:44:12.631574400</td>\n",
              "      <td>2019-05-21</td>\n",
              "      <td>118.419355</td>\n",
              "    </tr>\n",
              "    <tr>\n",
              "      <th>4</th>\n",
              "      <td>2868</td>\n",
              "      <td>Letha M.</td>\n",
              "      <td>2</td>\n",
              "      <td>2014-10-01 16:00:00.000028800</td>\n",
              "      <td>2017-07-31</td>\n",
              "      <td>33.322581</td>\n",
              "    </tr>\n",
              "  </tbody>\n",
              "</table>\n",
              "</div>"
            ],
            "text/plain": [
              "   host_id host_name  ...  last_review Difference_in_months\n",
              "0     2438     Tasos  ...   2018-03-17            16.645161\n",
              "1     2571     Teedo  ...   2019-05-21            72.967742\n",
              "2     2787      John  ...   2019-06-26            50.903226\n",
              "3     2845  Jennifer  ...   2019-05-21           118.419355\n",
              "4     2868  Letha M.  ...   2017-07-31            33.322581\n",
              "\n",
              "[5 rows x 6 columns]"
            ]
          },
          "metadata": {},
          "execution_count": 138
        }
      ]
    },
    {
      "cell_type": "code",
      "metadata": {
        "colab": {
          "base_uri": "https://localhost:8080/"
        },
        "id": "yqQlQm3mpwg-",
        "outputId": "908bf5d8-053f-433b-aa80-affed2d93034"
      },
      "source": [
        "# rate of reviews per month, recieved by each host for all its properties (combined) listed on Airbnb\n",
        "df2['total_reviews_per_month']=(df2.total_reviews/df2.Difference_in_months)\n",
        "df6=df2.sort_values('total_reviews_per_month', ascending=False).head()\n",
        "df6"
      ],
      "execution_count": null,
      "outputs": [
        {
          "output_type": "execute_result",
          "data": {
            "text/html": [
              "<div>\n",
              "<style scoped>\n",
              "    .dataframe tbody tr th:only-of-type {\n",
              "        vertical-align: middle;\n",
              "    }\n",
              "\n",
              "    .dataframe tbody tr th {\n",
              "        vertical-align: top;\n",
              "    }\n",
              "\n",
              "    .dataframe thead th {\n",
              "        text-align: right;\n",
              "    }\n",
              "</style>\n",
              "<table border=\"1\" class=\"dataframe\">\n",
              "  <thead>\n",
              "    <tr style=\"text-align: right;\">\n",
              "      <th></th>\n",
              "      <th>host_id</th>\n",
              "      <th>host_name</th>\n",
              "      <th>total_reviews</th>\n",
              "      <th>first_review</th>\n",
              "      <th>last_review</th>\n",
              "      <th>Difference_in_months</th>\n",
              "      <th>total_reviews_per_month</th>\n",
              "    </tr>\n",
              "  </thead>\n",
              "  <tbody>\n",
              "    <tr>\n",
              "      <th>28219</th>\n",
              "      <td>219517861</td>\n",
              "      <td>Sonder (NYC)</td>\n",
              "      <td>1281</td>\n",
              "      <td>2018-12-12 10:25:27.272697600</td>\n",
              "      <td>2019-06-26</td>\n",
              "      <td>6.290323</td>\n",
              "      <td>203.646154</td>\n",
              "    </tr>\n",
              "    <tr>\n",
              "      <th>29173</th>\n",
              "      <td>244361589</td>\n",
              "      <td>Row NYC</td>\n",
              "      <td>305</td>\n",
              "      <td>2019-02-24 02:39:59.999990400</td>\n",
              "      <td>2019-07-07</td>\n",
              "      <td>4.258065</td>\n",
              "      <td>71.628788</td>\n",
              "    </tr>\n",
              "    <tr>\n",
              "      <th>28855</th>\n",
              "      <td>232251881</td>\n",
              "      <td>Lakshmee</td>\n",
              "      <td>482</td>\n",
              "      <td>2018-12-08 12:36:24.110265600</td>\n",
              "      <td>2019-07-07</td>\n",
              "      <td>6.774194</td>\n",
              "      <td>71.152381</td>\n",
              "    </tr>\n",
              "    <tr>\n",
              "      <th>15369</th>\n",
              "      <td>26432133</td>\n",
              "      <td>Danielle</td>\n",
              "      <td>2017</td>\n",
              "      <td>2016-10-14 22:07:35.018630400</td>\n",
              "      <td>2019-07-08</td>\n",
              "      <td>32.129032</td>\n",
              "      <td>62.778112</td>\n",
              "    </tr>\n",
              "    <tr>\n",
              "      <th>25212</th>\n",
              "      <td>137274917</td>\n",
              "      <td>David</td>\n",
              "      <td>607</td>\n",
              "      <td>2018-06-21 02:37:25.659177600</td>\n",
              "      <td>2019-06-24</td>\n",
              "      <td>11.838710</td>\n",
              "      <td>51.272480</td>\n",
              "    </tr>\n",
              "  </tbody>\n",
              "</table>\n",
              "</div>"
            ],
            "text/plain": [
              "         host_id     host_name  ...  Difference_in_months total_reviews_per_month\n",
              "28219  219517861  Sonder (NYC)  ...              6.290323              203.646154\n",
              "29173  244361589       Row NYC  ...              4.258065               71.628788\n",
              "28855  232251881      Lakshmee  ...              6.774194               71.152381\n",
              "15369   26432133      Danielle  ...             32.129032               62.778112\n",
              "25212  137274917         David  ...             11.838710               51.272480\n",
              "\n",
              "[5 rows x 7 columns]"
            ]
          },
          "metadata": {},
          "execution_count": 139
        }
      ]
    },
    {
      "cell_type": "code",
      "metadata": {
        "id": "fUvsC_hFpwg-"
      },
      "source": [
        "df1=df[(df.host_id==219517861)|(df.host_id==244361589)|(df.host_id==232251881)|(df.host_id==26432133)|(df.host_id==137274917)]"
      ],
      "execution_count": null,
      "outputs": []
    },
    {
      "cell_type": "code",
      "metadata": {
        "colab": {
          "base_uri": "https://localhost:8080/"
        },
        "id": "Cazrbmwdpwg_",
        "outputId": "ef09efe5-d07d-4dce-ea58-5d13a758b947"
      },
      "source": [
        "df2=df1.groupby(['host_name'])['calculated_host_listings_count'].count().reset_index()\n",
        "df3=df1.groupby(['host_name'])['number_of_reviews'].sum().reset_index()\n",
        "df4=df1.groupby(['host_name'])['minimum_nights'].median().reset_index()\n",
        "df5=df1.groupby(['host_name'])['price'].mean().reset_index()\n",
        "\n",
        "\n",
        "plt.figure(figsize=(25,8))\n",
        "\n",
        "plt.subplot(2,4,3)\n",
        "sns.barplot(x=df2.host_name, y=df2.calculated_host_listings_count)\n",
        "\n",
        "plt.subplot(2,4,2)\n",
        "sns.barplot(x=df6.host_name, y=df6.total_reviews_per_month)\n",
        "\n",
        "plt.subplot(2,4,1)\n",
        "sns.barplot(x=df3.host_name, y=df3.number_of_reviews)\n",
        "\n",
        "plt.subplot(2,4,5)\n",
        "sns.barplot(x=df4.host_name, y=df4.minimum_nights)\n",
        "\n",
        "plt.subplot(2,4,4)\n",
        "sns.barplot(x=df5.host_name, y=df5.price)"
      ],
      "execution_count": null,
      "outputs": [
        {
          "output_type": "execute_result",
          "data": {
            "text/plain": [
              "<matplotlib.axes._subplots.AxesSubplot at 0x7ff6c2888190>"
            ]
          },
          "metadata": {},
          "execution_count": 141
        },
        {
          "output_type": "display_data",
          "data": {
            "image/png": "[encoded data removed]",
            "text/plain": [
              "<Figure size 1800x576 with 5 Axes>"
            ]
          },
          "metadata": {}
        }
      ]
    },
    {
      "cell_type": "markdown",
      "metadata": {
        "id": "_aX5Dt6spwg_"
      },
      "source": [
        "* Sonder has the highest review per month, highest listing count, and most of his properties are in Manhattan which is the most densely populated among the 5 boroughs of New York city. Hence Sonder is the busiest host.\n",
        "\n",
        "* Most of his properties are entire home/apt, with an average price of 251$ and the minimum_night stay is 2 nights."
      ]
    },
    {
      "cell_type": "markdown",
      "metadata": {
        "id": "SSgDPEJXvv3r"
      },
      "source": [
        "### **Top 5 host with heights listing counts**"
      ]
    },
    {
      "cell_type": "code",
      "metadata": {
        "colab": {
          "base_uri": "https://localhost:8080/"
        },
        "id": "ELBAmfm_vtG0",
        "outputId": "2d27cf81-54fd-4185-8abd-211465c9d4c0"
      },
      "source": [
        "#Top 5 host with max number of listing\n",
        "df1=df.groupby(['host_id','host_name']).agg({'calculated_host_listings_count':'count','number_of_reviews':'sum','minimum_nights':'median'}).reset_index().sort_values('calculated_host_listings_count', ascending=False).head()\n",
        "\n",
        "plt.figure(figsize=(20,5))\n",
        "\n",
        "plt.subplot(1,3,1)\n",
        "sns.barplot(x=df1.host_name, y=df1.calculated_host_listings_count)\n",
        "\n",
        "plt.subplot(1,3,2)\n",
        "sns.barplot(x=df1.host_name, y=df1.number_of_reviews)\n",
        "\n",
        "plt.subplot(1,3,3)\n",
        "sns.barplot(x=df1.host_name, y=df1.minimum_nights)"
      ],
      "execution_count": null,
      "outputs": [
        {
          "output_type": "execute_result",
          "data": {
            "text/plain": [
              "<matplotlib.axes._subplots.AxesSubplot at 0x7ff6c2797910>"
            ]
          },
          "metadata": {},
          "execution_count": 142
        },
        {
          "output_type": "display_data",
          "data": {
            "image/png": "[encoded data removed]",
            "text/plain": [
              "<Figure size 1440x360 with 3 Axes>"
            ]
          },
          "metadata": {}
        }
      ]
    },
    {
      "cell_type": "markdown",
      "metadata": {
        "id": "8f5caXl6N_kU"
      },
      "source": [
        "* Inspite of Blueground having the second highest review, he has got very less reviews among all, that is because the minimum night required to book Blueground's property is 30 nights. where as for Sonder is 2 nights.\n",
        "\n",
        "* Scatterplot  below shows the relation between minimum_nights and total_reviews of all the host"
      ]
    },
    {
      "cell_type": "code",
      "metadata": {
        "id": "QS_YasVmcNfa",
        "colab": {
          "base_uri": "https://localhost:8080/"
        },
        "outputId": "de211e16-dfb3-446a-bd40-b0526e3b40c4"
      },
      "source": [
        "h=df[['minimum_nights','number_of_reviews']]\n",
        "corr_h=h.corr()\n",
        "sns.heatmap(corr_h,annot=True)\n",
        "sns.pairplot(h)"
      ],
      "execution_count": null,
      "outputs": [
        {
          "output_type": "execute_result",
          "data": {
            "text/plain": [
              "<seaborn.axisgrid.PairGrid at 0x7ff6c2567fd0>"
            ]
          },
          "metadata": {},
          "execution_count": 143
        },
        {
          "output_type": "display_data",
          "data": {
            "image/png": "[encoded data removed]",
            "text/plain": [
              "<Figure size 432x288 with 2 Axes>"
            ]
          },
          "metadata": {}
        },
        {
          "output_type": "display_data",
          "data": {
            "image/png": "[encoded data removed]",
            "text/plain": [
              "<Figure size 360x360 with 6 Axes>"
            ]
          },
          "metadata": {}
        }
      ]
    }
  ]
}